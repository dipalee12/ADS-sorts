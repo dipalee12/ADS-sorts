{
 "cells": [
  {
   "cell_type": "markdown",
   "metadata": {},
   "source": [
    "Practical 5"
   ]
  },
  {
   "cell_type": "markdown",
   "metadata": {},
   "source": [
    "Bucket Sort on 1D array of Faculty structure (contains \n",
    "faculty_name, faculty_ID, subject_codes, class_names), with key as faculty_ID. And count the number of swap performed"
   ]
  },
  {
   "cell_type": "code",
   "execution_count": 1,
   "metadata": {},
   "outputs": [],
   "source": [
    "class Faculty :\n",
    "    facultyName = None\n",
    "    facultyID = 0\n",
    "    subjectCode = 0\n",
    "    className = None\n",
    "    def __init__(self,facultyName,facultyID,subjectCode,className) :\n",
    "        self.facultyName = facultyName\n",
    "        self.facultyID = facultyID\n",
    "        self.subjectCode = subjectCode\n",
    "        self.className = className\n",
    "    def  __str__(self):\n",
    "        return \"Faculty [facultyName=\" + self.facultyName + \", facultyID=\" + str(self.facultyID) + \", subjectCode=\" + str(self.subjectCode) + \",className=\" + str(self.className) + \"]\"\n",
    "    \n",
    "    def  equals(self, obj) :\n",
    "        if (self.this == obj) :\n",
    "            return True\n",
    "        if (obj == None) :\n",
    "            return False\n",
    "        if (self.getClass() != type(obj)) :\n",
    "            return False\n",
    "        other = Faculty(obj)\n",
    "        return self.facultyID == other.facultyID"
   ]
  },
  {
   "cell_type": "code",
   "execution_count": 2,
   "metadata": {},
   "outputs": [
    {
     "ename": "TypeError",
     "evalue": "object of type 'Faculty' has no len()",
     "output_type": "error",
     "traceback": [
      "\u001b[1;31m---------------------------------------------------------------------------\u001b[0m",
      "\u001b[1;31mTypeError\u001b[0m                                 Traceback (most recent call last)",
      "Cell \u001b[1;32mIn [2], line 99\u001b[0m\n\u001b[0;32m     94\u001b[0m             i \u001b[39m+\u001b[39m\u001b[39m=\u001b[39m \u001b[39m1\u001b[39m\n\u001b[0;32m     95\u001b[0m         \u001b[39mprint\u001b[39m(\u001b[39m\"\u001b[39m\u001b[39mNumber of swap require in bucket sort is - \u001b[39m\u001b[39m\"\u001b[39m \u001b[39m+\u001b[39m \u001b[39mstr\u001b[39m(\u001b[39mself\u001b[39m\u001b[39m.\u001b[39mswapCount))\n\u001b[1;32m---> 99\u001b[0m BucketSortFaculty()\u001b[39m.\u001b[39;49mmain()\n",
      "Cell \u001b[1;32mIn [2], line 88\u001b[0m, in \u001b[0;36mBucketSortFaculty.main\u001b[1;34m(self)\u001b[0m\n\u001b[0;32m     85\u001b[0m ft[\u001b[39m4\u001b[39m] \u001b[39m=\u001b[39m Faculty(\u001b[39m\"\u001b[39m\u001b[39mKian Katanforoosh\u001b[39m\u001b[39m\"\u001b[39m, \u001b[39m105\u001b[39m, \u001b[39m12002\u001b[39m, \u001b[39m\"\u001b[39m\u001b[39mDeep Learning\u001b[39m\u001b[39m\"\u001b[39m)\n\u001b[0;32m     86\u001b[0m \u001b[39m#\u001b[39;00m\n\u001b[1;32m---> 88\u001b[0m \u001b[39mself\u001b[39;49m\u001b[39m.\u001b[39;49mbucketSort(ft)\n\u001b[0;32m     90\u001b[0m \u001b[39m# print the output.\u001b[39;00m\n\u001b[0;32m     91\u001b[0m i \u001b[39m=\u001b[39m \u001b[39m0\u001b[39m\n",
      "Cell \u001b[1;32mIn [2], line 34\u001b[0m, in \u001b[0;36mBucketSortFaculty.bucketSort\u001b[1;34m(self, ft)\u001b[0m\n\u001b[0;32m     32\u001b[0m     \u001b[39mreturn\u001b[39;00m\n\u001b[0;32m     33\u001b[0m \u001b[39m# get the how much size require for bucket.\u001b[39;00m\n\u001b[1;32m---> 34\u001b[0m code_ \u001b[39m=\u001b[39m \u001b[39mself\u001b[39;49m\u001b[39m.\u001b[39;49mhash(ft)\n\u001b[0;32m     35\u001b[0m bucket \u001b[39m=\u001b[39m [\u001b[39mNone\u001b[39;00m]\u001b[39m*\u001b[39mcode_[\u001b[39m1\u001b[39m]\n\u001b[0;32m     37\u001b[0m i \u001b[39m=\u001b[39m \u001b[39m0\u001b[39m\n",
      "Cell \u001b[1;32mIn [2], line 19\u001b[0m, in \u001b[0;36mBucketSortFaculty.hash\u001b[1;34m(self, input)\u001b[0m\n\u001b[0;32m     17\u001b[0m m \u001b[39m=\u001b[39m \u001b[39minput\u001b[39m[\u001b[39m0\u001b[39m]\n\u001b[0;32m     18\u001b[0m i \u001b[39m=\u001b[39m \u001b[39m0\u001b[39m\n\u001b[1;32m---> 19\u001b[0m \u001b[39mwhile\u001b[39;00m i \u001b[39m<\u001b[39m \u001b[39mlen\u001b[39;49m(m):\n\u001b[0;32m     20\u001b[0m     \u001b[39mif\u001b[39;00m m\u001b[39m.\u001b[39mfacultyID \u001b[39m<\u001b[39m \u001b[39minput\u001b[39m[i]\u001b[39m.\u001b[39mfacultyID:\n\u001b[0;32m     21\u001b[0m         m \u001b[39m=\u001b[39m \u001b[39minput\u001b[39m[i]\n",
      "\u001b[1;31mTypeError\u001b[0m: object of type 'Faculty' has no len()"
     ]
    }
   ],
   "source": [
    "import math\n",
    "\n",
    "from numpy import index_exp\n",
    "\n",
    "class BucketSortFaculty:\n",
    "\n",
    "    swapCount = 0\n",
    "    def swap(self, ft,  i,  j) :\n",
    "            if (ft != None) :\n",
    "                temp = ft[i]\n",
    "                ft[i] = ft[j]\n",
    "                ft[j] = temp\n",
    "                self.swapCount += 1\n",
    "\n",
    "    def hash(self, input):\n",
    "        # generated source for method hash\n",
    "        m = input[0]\n",
    "        i = 0\n",
    "        while i < len(m):\n",
    "            if m.facultyID < input[i].facultyID:\n",
    "                m = input[i]\n",
    "            i += 1\n",
    "        return None\n",
    "\n",
    "    def hash_0(self, i, code_):\n",
    "\n",
    "        return ((((i) / code_[0]) * (code_[1] - 1)))\n",
    "    \n",
    "    def bucketSort(self, ft):\n",
    "        # generated source for method bucketSort\n",
    "        if ft == None and ft.length <= 0:\n",
    "            return\n",
    "        # get the how much size require for bucket.\n",
    "        code_ = self.hash(ft)\n",
    "        bucket = [None]*code_[1]\n",
    "        \n",
    "        i = 0\n",
    "        while i < code_[1]:\n",
    "            \n",
    "            bucket[i] = ArrayList()\n",
    "            i += 1\n",
    "        \n",
    "        i = 0\n",
    "        while i < ft.length:\n",
    "            \n",
    "            bucket[bucketIndex].add(ft[i])\n",
    "            i += 1\n",
    "        # sort the elements of each bucket\n",
    "        \n",
    "        i = 0\n",
    "        while i < code_[1]:\n",
    "            \n",
    "            while j < bucket[i].size():\n",
    "                \n",
    "                while k < bucket[i].size():\n",
    "                    \n",
    "                    if bucket[i].get(j).faculty_ID > bucket[i].get(k).faculty_ID:\n",
    "                        self.swap(bucket[i], i, j)\n",
    "                    k += 1\n",
    "                \n",
    "                j += 1\n",
    "            \n",
    "            i += 1\n",
    "        \n",
    "        index = 0\n",
    "        \n",
    "        i = 0\n",
    "        while i < code_[1]:\n",
    "             index_exp == index\n",
    "        index += 1\n",
    "            \n",
    "        while j < bucket[i].size():\n",
    "                \n",
    "                ft[index_exp] = bucket[i].get(j)\n",
    "                j += 1\n",
    "        i += 1\n",
    "    \n",
    "    def main(self) :\n",
    "        # create student objects and store in array.\n",
    "        ft = [None] * (5)\n",
    "        ft[0] = Faculty(\"andre ng\", 101, 12001, \"Machine Learning\")\n",
    "        ft[1] = Faculty(\"Aarti Bagul\", 150, 12001, \"Machine Learning\")\n",
    "        ft[2] = Faculty(\"Eddy Shyu\", 120, 12001, \"Machine Learning\")\n",
    "        ft[3] = Faculty(\"Geoff Ladwig\", 110, 12001, \"Machine Learning\")\n",
    "        ft[4] = Faculty(\"Kian Katanforoosh\", 105, 12002, \"Deep Learning\")\n",
    "        #\n",
    "        \n",
    "        self.bucketSort(ft)\n",
    "        \n",
    "        # print the output.\n",
    "        i = 0\n",
    "        while (i < len(ft)) :\n",
    "            print(ft[i])\n",
    "            i += 1\n",
    "        print(\"Number of swap require in bucket sort is - \" + str(self.swapCount))\n",
    "                    \n",
    "    \n",
    "\n",
    "BucketSortFaculty().main()\n",
    "\n"
   ]
  }
 ],
 "metadata": {
  "kernelspec": {
   "display_name": "Python 3.11.0 64-bit",
   "language": "python",
   "name": "python3"
  },
  "language_info": {
   "codemirror_mode": {
    "name": "ipython",
    "version": 3
   },
   "file_extension": ".py",
   "mimetype": "text/x-python",
   "name": "python",
   "nbconvert_exporter": "python",
   "pygments_lexer": "ipython3",
   "version": "3.11.0"
  },
  "orig_nbformat": 4,
  "vscode": {
   "interpreter": {
    "hash": "e15ef9651e4545d7745eeb1c5714c64ba1fe7ad45f8304ea1595be301746668a"
   }
  }
 },
 "nbformat": 4,
 "nbformat_minor": 2
}
