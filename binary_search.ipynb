{
 "cells": [
  {
   "cell_type": "markdown",
   "metadata": {},
   "source": [
    "PRACICAL 4"
   ]
  },
  {
   "cell_type": "markdown",
   "metadata": {},
   "source": [
    "Binary search on 1D array of Employee structure (contains \n",
    "employee_name, emp_no, emp_salary), with key as emp_no. And count the number of comparison happened"
   ]
  },
  {
   "cell_type": "code",
   "execution_count": 28,
   "metadata": {},
   "outputs": [],
   "source": [
    "class Student :\n",
    "    studentName = None\n",
    "    studentRollNumber = 0\n",
    "    totalMarks = 0\n",
    "    def __init__(self, studentName,  studentRollNumber,  totalMarks) :\n",
    "        self.studentName = studentName\n",
    "        self.studentRollNumber = studentRollNumber\n",
    "        self.totalMarks = totalMarks\n",
    "    def  __str__(self):\n",
    "        return \"Student [studentName=\" + self.studentName + \", studentRollNumber=\" + str(self.studentRollNumber) + \", totalMarks=\" + str(self.totalMarks) + \"]\"\n",
    "    \n",
    "    def  equals(self, obj) :\n",
    "        if (self.this == obj) :\n",
    "            return True\n",
    "        if (obj == None) :\n",
    "            return False\n",
    "        if (self.getClass() != type(obj)) :\n",
    "            return False\n",
    "        other = Student(obj)\n",
    "        return self.studentRollNumber == other.studentRollNumber"
   ]
  },
  {
   "cell_type": "code",
   "execution_count": 29,
   "metadata": {},
   "outputs": [
    {
     "name": "stdout",
     "output_type": "stream",
     "text": [
      "student found at index : 1\n",
      "Number of the comarisio in binary search is -  3\n"
     ]
    }
   ],
   "source": [
    "class BinarySearchStudent(object):\n",
    "    # generated source for class BinarySearchStudent\n",
    "    countComparision = 0\n",
    "    def search(self, st, left, right, student):\n",
    "        # generated source for method search\n",
    "        if left <= right:\n",
    "            mid = left +(right-left)//2\n",
    "            self.countComparision += 1\n",
    "            if st[mid] == student:\n",
    "                return mid\n",
    "            elif st[mid].studentRollNumber > student.studentRollNumber:\n",
    "                left = mid + 1\n",
    "                return self.search(st, left, right, student)\n",
    "            else:\n",
    "                right = mid - 1\n",
    "                return self.search(st, left, right, student)\n",
    "        return -1\n",
    "\n",
    "    def main(self):\n",
    "        # generated source for method main\n",
    "        # create student objects and store in array.\n",
    "        st = [None]*5\n",
    "        st[0] = Student(\"ame\", 10, 80)\n",
    "        st[1] = Student(\"roy\", 7, 69)\n",
    "        st[2] = Student(\"tommy\", 3, 59)\n",
    "        st[3] = Student(\"cool\", 9, 75)\n",
    "        st[4] = Student(\"jon\", 1, 67)\n",
    "        # binarySearchStudent = BinarySearchStudent()\n",
    "        index = self.search(st, 0, len(st) - 1, st[1])\n",
    "        print(\"student found at index : \" + str(index))\n",
    "        print(\"Number of the comarisio in binary search is - \" , self.countComparision)\n",
    "\n",
    "BinarySearchStudent().main()    "
   ]
  }
 ],
 "metadata": {
  "kernelspec": {
   "display_name": "Python 3.11.0 64-bit",
   "language": "python",
   "name": "python3"
  },
  "language_info": {
   "codemirror_mode": {
    "name": "ipython",
    "version": 3
   },
   "file_extension": ".py",
   "mimetype": "text/x-python",
   "name": "python",
   "nbconvert_exporter": "python",
   "pygments_lexer": "ipython3",
   "version": "3.11.0"
  },
  "orig_nbformat": 4,
  "vscode": {
   "interpreter": {
    "hash": "e15ef9651e4545d7745eeb1c5714c64ba1fe7ad45f8304ea1595be301746668a"
   }
  }
 },
 "nbformat": 4,
 "nbformat_minor": 2
}
