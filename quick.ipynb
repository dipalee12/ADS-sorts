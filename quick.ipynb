{
 "cells": [
  {
   "cell_type": "code",
   "execution_count": 2,
   "metadata": {},
   "outputs": [
    {
     "name": "stdout",
     "output_type": "stream",
     "text": [
      "Student [studentName=dipa, studentRollNumber=1, totalMarks=100]\n",
      "Student [studentName=jay, studentRollNumber=3, totalMarks=60]\n",
      "Student [studentName=nisha, studentRollNumber=9, totalMarks=75]\n",
      "Student [studentName=dip, studentRollNumber=12, totalMarks=45]\n",
      "Student [studentName=tom, studentRollNumber=13, totalMarks=87]\n",
      "Number of swap require in quick sort is - 6\n"
     ]
    }
   ],
   "source": [
    "class Student :\n",
    "    studentName = None\n",
    "    studentRollNumber = 0\n",
    "    totalMarks = 0\n",
    "    def __init__(self, studentName,  studentRollNumber,  totalMarks) :\n",
    "        self.studentName = studentName\n",
    "        self.studentRollNumber = studentRollNumber\n",
    "        self.totalMarks = totalMarks\n",
    "    def  __str__(self):\n",
    "        return \"Student [studentName=\" + self.studentName + \", studentRollNumber=\" + str(self.studentRollNumber) + \", totalMarks=\" + str(self.totalMarks) + \"]\"\n",
    "    \n",
    "    def  equals(self, obj) :\n",
    "        if (self.this == obj) :\n",
    "            return True\n",
    "        if (obj == None) :\n",
    "            return False\n",
    "        if (self.getClass() != type(obj)) :\n",
    "            return False\n",
    "        other = Student(obj)\n",
    "        return self.studentRollNumber == other.studentRollNumber\n",
    "class QuickSortStudent :\n",
    "    swapCount = 0\n",
    "    def swap(self, st,  i,  j) :\n",
    "        if (st != None) :\n",
    "            temp = st[i]\n",
    "            st[i] = st[j]\n",
    "            st[j] = temp\n",
    "            self.swapCount += 1\n",
    "    def  partition(self, st,  low,  high) :\n",
    "        # choose the rightmost element as pivot.\n",
    "        pivot = st[high]\n",
    "        # pointer for greater element\n",
    "        i = low - 1\n",
    "        # traverse through all elements\n",
    "        # compare each element with pivot.\n",
    "        j = low\n",
    "        while (j < high) :\n",
    "            if (st[j].studentRollNumber < pivot.studentRollNumber) :\n",
    "                i += 1\n",
    "                self.swap(st, i, j)\n",
    "            j += 1\n",
    "        # swap the pivot element with the greater element specified by i\n",
    "        self.swap(st, i + 1, high)\n",
    "        # return the position from where the partition is done.\n",
    "        return (i + 1)\n",
    "    def quickSort(self, st,  low,  high) :\n",
    "        if (low < high) :\n",
    "            # \t\t\t * find the pivot element such that \n",
    "            # \t\t\t * elements smaller than pivot are on the left\n",
    "            # \t\t\t * elements greater than pivot are on the right\n",
    "            pi = self.partition(st, low, high)\n",
    "            # recursive call on the left of pivot\n",
    "            self.quickSort(st, low, pi - 1)\n",
    "            # recursive call on the right of pivot\n",
    "            self.quickSort(st, pi + 1, high)\n",
    "    @staticmethod\n",
    "    def main( args) :\n",
    "        # create student objects and store in array.\n",
    "        st = [None] * (5)\n",
    "        st[0] = Student(\"dip\", 12, 45)\n",
    "        st[1] = Student(\"jay\", 3, 60)\n",
    "        st[2] = Student(\"tom\", 13, 87)\n",
    "        st[3] = Student(\"nisha\", 9, 75)\n",
    "        st[4] = Student(\"dipa\", 1, 100)\n",
    "        #\n",
    "        quickSortStudent = QuickSortStudent()\n",
    "        quickSortStudent.quickSort(st, 0, len(st) - 1)\n",
    "        # print the output.\n",
    "        i = 0\n",
    "        while (i < len(st)) :\n",
    "            print(st[i])\n",
    "            i += 1\n",
    "        print(\"Number of swap require in quick sort is - \" + str(quickSortStudent.swapCount))                       \n",
    "    \n",
    "\n",
    "if __name__==\"__main__\":\n",
    "    \n",
    "    QuickSortStudent.main([])"
   ]
  }
 ],
 "metadata": {
  "kernelspec": {
   "display_name": "Python 3.11.0 64-bit",
   "language": "python",
   "name": "python3"
  },
  "language_info": {
   "codemirror_mode": {
    "name": "ipython",
    "version": 3
   },
   "file_extension": ".py",
   "mimetype": "text/x-python",
   "name": "python",
   "nbconvert_exporter": "python",
   "pygments_lexer": "ipython3",
   "version": "3.11.0"
  },
  "orig_nbformat": 4,
  "vscode": {
   "interpreter": {
    "hash": "e15ef9651e4545d7745eeb1c5714c64ba1fe7ad45f8304ea1595be301746668a"
   }
  }
 },
 "nbformat": 4,
 "nbformat_minor": 2
}
