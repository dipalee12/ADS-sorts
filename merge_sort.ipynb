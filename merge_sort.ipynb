{
 "cells": [
  {
   "cell_type": "markdown",
   "metadata": {},
   "source": [
    "PRACTICAL 2"
   ]
  },
  {
   "cell_type": "markdown",
   "metadata": {},
   "source": [
    "Merge Sort on 1D array of Student structure (contains \n",
    "student_name, student_roll_no, total_marks), with key as student_roll_no. And count the number of swap performed"
   ]
  },
  {
   "cell_type": "code",
   "execution_count": 1,
   "metadata": {},
   "outputs": [],
   "source": [
    "class Student :\n",
    "    studentName = None\n",
    "    studentRollNumber = 0\n",
    "    totalMarks = 0\n",
    "    def __init__(self, studentName,  studentRollNumber,  totalMarks) :\n",
    "        self.studentName = studentName\n",
    "        self.studentRollNumber = studentRollNumber\n",
    "        self.totalMarks = totalMarks\n",
    "    def  __str__(self):\n",
    "        return \"Student [studentName=\" + self.studentName + \", studentRollNumber=\" + str(self.studentRollNumber) + \", totalMarks=\" + str(self.totalMarks) + \"]\"\n",
    "    \n",
    "    def  equals(self, obj) :\n",
    "        if (self.this == obj) :\n",
    "            return True\n",
    "        if (obj == None) :\n",
    "            return False\n",
    "        if (self.getClass() != type(obj)) :\n",
    "            return False\n",
    "        other = Student(obj)\n",
    "        return self.studentRollNumber == other.studentRollNumber\n",
    "\n"
   ]
  },
  {
   "cell_type": "code",
   "execution_count": 2,
   "metadata": {},
   "outputs": [
    {
     "name": "stdout",
     "output_type": "stream",
     "text": [
      "Student [studentName=dipa, studentRollNumber=1, totalMarks=100]\n",
      "Student [studentName=jay, studentRollNumber=3, totalMarks=60]\n",
      "Student [studentName=nisha, studentRollNumber=9, totalMarks=75]\n",
      "Student [studentName=dip, studentRollNumber=12, totalMarks=45]\n",
      "Student [studentName=tom, studentRollNumber=13, totalMarks=87]\n",
      "Number of swap require in quick sort is - 4\n"
     ]
    }
   ],
   "source": [
    "import math     # to use math.inf\n",
    "\n",
    "class MergeSortStudent:\n",
    "   \n",
    "\n",
    "# function for merge sort\n",
    "# arr[l..r] is the array that needs to be sorted\n",
    "# l and r are the left and right indices of arr\n",
    "    \n",
    "    #for swap\n",
    "    swapCount = 0\n",
    "    def swap(self, st,  i,  j) :\n",
    "            if (st != None) :\n",
    "                temp = st[i]\n",
    "                st[i] = st[j]\n",
    "                st[j] = temp\n",
    "                self.swapCount += 1\n",
    "\n",
    "    def mergeSort(self, st, l, r):\n",
    "        \n",
    "        if l < r:\n",
    "            # find mid index of st\n",
    "            m = (l + r) // 2\n",
    "\n",
    "            # sort left half using merge sort\n",
    "            self.mergeSort(st, l, m)\n",
    "\n",
    "            # sort right half using merge sort\n",
    "            self.mergeSort(st, m + 1, r)\n",
    "\n",
    "            # merge the two half\n",
    "            self.merge(st, l, m, r)\n",
    "\n",
    "\n",
    "    # function for merging two sub arrays of st[l..r]\n",
    "    def merge(self, st, l, m, r):\n",
    "        # length of left half of st\n",
    "        nL = m - l + 1\n",
    "\n",
    "        # length of right half of st\n",
    "        nR = r - m\n",
    "\n",
    "        # create two empty arrays L[0..nL] and R[0..nR]\n",
    "        L = [0] * (nL)\n",
    "        R = [0] * (nR)\n",
    "\n",
    "        # copy left half of st in L[0..nL-1]\n",
    "        i=0\n",
    "        while i < nL:\n",
    "            L[i] = st[l + i]\n",
    "            i +=1\n",
    "\n",
    "        # copy right half of st in R[0..nR-1]\n",
    "        j=0\n",
    "        while j < nR:\n",
    "            R[j] = st[m + 1 + j]\n",
    "            j += 1\n",
    "\n",
    "        # iterate over L and R\n",
    "        # and copy the smallest of L[i] and R[j] to st[k]\n",
    "        i = 0\n",
    "        j = 0\n",
    "        k = l\n",
    "        while i < nL and j < nR:\n",
    "            if L[i].studentRollNumber <= R[j].studentRollNumber:\n",
    "                st[k] = L[i]\n",
    "                i += 1\n",
    "            else:\n",
    "                self.swapCount += 1\n",
    "                st[k] = R[j]\n",
    "                j += 1\n",
    "            k += 1\n",
    "        while i < nL:\n",
    "            st[k] = L[i]\n",
    "            i += 1\n",
    "            k += 1\n",
    "        while j < nR:\n",
    "            st[k] = R[j]\n",
    "            j += 1\n",
    "            k += 1\n",
    "\n",
    "    def main(self) :\n",
    "        # create student objects and store in array.\n",
    "        st = [None] * (5)\n",
    "        st[0] = Student(\"dip\", 12, 45)\n",
    "        st[1] = Student(\"jay\", 3, 60)\n",
    "        st[2] = Student(\"tom\", 13, 87)\n",
    "        st[3] = Student(\"nisha\", 9, 75)\n",
    "        st[4] = Student(\"dipa\", 1, 100)\n",
    "        #\n",
    "        \n",
    "        self.mergeSort(st, 0, len(st) - 1)\n",
    "        \n",
    "        # print the output.\n",
    "        i = 0\n",
    "        while (i < len(st)) :\n",
    "            print(st[i])\n",
    "            i += 1\n",
    "        print(\"Number of swap require in quick sort is - \" + str(self.swapCount))\n",
    "                    \n",
    "    \n",
    "\n",
    "MergeSortStudent().main()"
   ]
  }
 ],
 "metadata": {
  "kernelspec": {
   "display_name": "Python 3.11.0 64-bit",
   "language": "python",
   "name": "python3"
  },
  "language_info": {
   "codemirror_mode": {
    "name": "ipython",
    "version": 3
   },
   "file_extension": ".py",
   "mimetype": "text/x-python",
   "name": "python",
   "nbconvert_exporter": "python",
   "pygments_lexer": "ipython3",
   "version": "3.11.0"
  },
  "orig_nbformat": 4,
  "vscode": {
   "interpreter": {
    "hash": "e15ef9651e4545d7745eeb1c5714c64ba1fe7ad45f8304ea1595be301746668a"
   }
  }
 },
 "nbformat": 4,
 "nbformat_minor": 2
}
