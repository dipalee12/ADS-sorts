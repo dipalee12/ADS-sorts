{
 "cells": [
  {
   "cell_type": "markdown",
   "metadata": {},
   "source": [
    "PRACTICAL 3"
   ]
  },
  {
   "cell_type": "markdown",
   "metadata": {},
   "source": [
    "Bubble Sort on 1D array of Employee structure (contains employee_name, emp_no, emp_salary), with key as emp_no. And count the number of swap performed."
   ]
  },
  {
   "cell_type": "code",
   "execution_count": 13,
   "metadata": {},
   "outputs": [],
   "source": [
    "class Student :\n",
    "    studentName = None\n",
    "    studentRollNumber = 0\n",
    "    totalMarks = 0\n",
    "    def __init__(self, studentName,  studentRollNumber,  totalMarks) :\n",
    "        self.studentName = studentName\n",
    "        self.studentRollNumber = studentRollNumber\n",
    "        self.totalMarks = totalMarks\n",
    "    def  __str__(self):\n",
    "        return \"Student [studentName=\" + self.studentName + \", studentRollNumber=\" + str(self.studentRollNumber) + \", totalMarks=\" + str(self.totalMarks) + \"]\"\n",
    "    \n",
    "    def  equals(self, obj) :\n",
    "        if (self.this == obj) :\n",
    "            return True\n",
    "        if (obj == None) :\n",
    "            return False\n",
    "        if (self.getClass() != type(obj)) :\n",
    "            return False\n",
    "        other = Student(obj)\n",
    "        return self.studentRollNumber == other.studentRollNumber\n",
    "        "
   ]
  },
  {
   "cell_type": "code",
   "execution_count": 14,
   "metadata": {},
   "outputs": [
    {
     "name": "stdout",
     "output_type": "stream",
     "text": [
      "Student [studentName=dipa, studentRollNumber=1, totalMarks=100]\n",
      "Student [studentName=jay, studentRollNumber=3, totalMarks=60]\n",
      "Student [studentName=nisha, studentRollNumber=9, totalMarks=75]\n",
      "Student [studentName=dip, studentRollNumber=12, totalMarks=45]\n",
      "Student [studentName=tom, studentRollNumber=13, totalMarks=87]\n",
      "Number of swap require in quick sort is - 7\n"
     ]
    }
   ],
   "source": [
    "class BubbleSortStudent():\n",
    "    # generated source for class BubbleSortStudent\n",
    "    swapCount = 0\n",
    "\n",
    "    def swap(self, st, i, j):\n",
    "        # generated source for method swap\n",
    "        if st != None:\n",
    "            temp = st[i]\n",
    "            st[i] = st[j]\n",
    "            st[j] = temp\n",
    "            self.swapCount += 1\n",
    "\n",
    "    def bubbleSort(self, st):\n",
    "        # generated source for method bubbleSort\n",
    "        size = len(st)\n",
    "        i = size - 1\n",
    "        \n",
    "        while i >= 0:\n",
    "            swapped = False \n",
    "            j = 0\n",
    "            while j < i:\n",
    "                if st[j].studentRollNumber > st[j + 1].studentRollNumber:\n",
    "                    self.swap(st, j, j + 1)\n",
    "                    swapped = True\n",
    "                    j += 1\n",
    "                else:\n",
    "                    j += 1\n",
    "            if swapped == False:\n",
    "                break\n",
    "                #  no swapping happened, so break the loop.\n",
    "            i -= 1\n",
    "    \n",
    "\n",
    "    def main(self) :\n",
    "        # create student objects and store in array.\n",
    "        st = [None] * (5)\n",
    "        st[0] = Student(\"dip\", 12, 45)\n",
    "        st[1] = Student(\"jay\", 3, 60)\n",
    "        st[2] = Student(\"tom\", 13, 87)\n",
    "        st[3] = Student(\"nisha\", 9, 75)\n",
    "        st[4] = Student(\"dipa\", 1, 100)\n",
    "        #\n",
    "    \n",
    "        self.bubbleSort(st)\n",
    "        # print the output.\n",
    "        i = 0\n",
    "        while (i < len(st)) :\n",
    "            print(st[i])\n",
    "            i += 1\n",
    "        print(\"Number of swap require in quick sort is - \" + str(self.swapCount))                       \n",
    "    \n",
    "\n",
    "\n",
    "BubbleSortStudent().main()"
   ]
  }
 ],
 "metadata": {
  "kernelspec": {
   "display_name": "Python 3.11.0 64-bit",
   "language": "python",
   "name": "python3"
  },
  "language_info": {
   "codemirror_mode": {
    "name": "ipython",
    "version": 3
   },
   "file_extension": ".py",
   "mimetype": "text/x-python",
   "name": "python",
   "nbconvert_exporter": "python",
   "pygments_lexer": "ipython3",
   "version": "3.11.0"
  },
  "orig_nbformat": 4,
  "vscode": {
   "interpreter": {
    "hash": "e15ef9651e4545d7745eeb1c5714c64ba1fe7ad45f8304ea1595be301746668a"
   }
  }
 },
 "nbformat": 4,
 "nbformat_minor": 2
}
